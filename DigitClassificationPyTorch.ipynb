{
  "nbformat": 4,
  "nbformat_minor": 0,
  "metadata": {
    "colab": {
      "provenance": [],
      "gpuType": "T4"
    },
    "kernelspec": {
      "name": "python3",
      "display_name": "Python 3"
    },
    "language_info": {
      "name": "python"
    },
    "accelerator": "GPU"
  },
  "cells": [
    {
      "cell_type": "markdown",
      "source": [
        "# Digit Classification from MNIST Dataset.\n",
        "\n",
        "Creating a feed forward neural network for digit classification from the famous MNIST dataset. Also adding GPU support."
      ],
      "metadata": {
        "id": "P_XZh_6R74MX"
      }
    },
    {
      "cell_type": "code",
      "source": [
        "import torch\n",
        "import torch.nn as nn\n",
        "import torchvision\n",
        "import torchvision.transforms as transforms\n",
        "import matplotlib.pyplot as plt"
      ],
      "metadata": {
        "id": "j5DkWXK38H46"
      },
      "execution_count": 11,
      "outputs": []
    },
    {
      "cell_type": "code",
      "source": [
        "# device config\n",
        "device = torch.device('cuda' if torch.cuda.is_available() else 'mps' if torch.backends.mps.is_available() else 'cpu')\n",
        "\n",
        "# hyperparameters\n",
        "input_size = 784  # mnist has 28x28 images, which after flattening becomes 784\n",
        "hidden_size = 1000 # number of nodes in hidden layer\n",
        "NUM_CLASSES = 10\n",
        "EPOCHS = 10\n",
        "BATCH_SIZE = 32 # Yann LeCun said mini batch size of more than 32 shouldn't be used.\n",
        "LR = 0.001"
      ],
      "metadata": {
        "id": "lus6MHKg8YR9"
      },
      "execution_count": 12,
      "outputs": []
    },
    {
      "cell_type": "code",
      "source": [
        "# Importing MNIST\n",
        "train_dataset = torchvision.datasets.MNIST(root='./data', train=True,\n",
        "                                           download=True, transform=transforms.ToTensor())\n",
        "\n",
        "test_dataset = torchvision.datasets.MNIST(root='./data', train=False,\n",
        "                                           download=True, transform=transforms.ToTensor())\n",
        "\n",
        "train_loader = torch.utils.data.DataLoader(dataset=train_dataset, batch_size=BATCH_SIZE, shuffle=True)\n",
        "\n",
        "test_loader = torch.utils.data.DataLoader(dataset=test_dataset, batch_size=BATCH_SIZE, shuffle=False)"
      ],
      "metadata": {
        "id": "UqG-p2Jf9EM4"
      },
      "execution_count": 13,
      "outputs": []
    },
    {
      "cell_type": "code",
      "source": [
        "# Looking at shapes of samples and labels in a single batch.\n",
        "examples = iter(train_loader)\n",
        "samples, labels = next(examples)\n",
        "print(samples.shape, labels.shape)"
      ],
      "metadata": {
        "colab": {
          "base_uri": "https://localhost:8080/"
        },
        "id": "IVWxBcpN97Td",
        "outputId": "3ebeb771-1fca-4f25-8b1f-5ce549c83c23"
      },
      "execution_count": 14,
      "outputs": [
        {
          "output_type": "stream",
          "name": "stdout",
          "text": [
            "torch.Size([32, 1, 28, 28]) torch.Size([32])\n"
          ]
        }
      ]
    },
    {
      "cell_type": "markdown",
      "source": [
        "We can see from the shape that our samples has a shape of 32x1x28x28, 32 being the batch size. We also see that our labels are in a 1-D array.\n",
        "\n",
        "We may need to first flatten our samples into an array of 32x784."
      ],
      "metadata": {
        "id": "7LIj06by-Pqi"
      }
    },
    {
      "cell_type": "code",
      "source": [
        "# Plotting the first 6 images in batch 1.\n",
        "for i in range(6):\n",
        "  plt.subplot(2, 3, i+1)  # creating a grid with 2 rows and 3 cols\n",
        "  plt.imshow(samples[i][0], cmap='gray')  # plotting images with color map = gray\n",
        "  plt.show;  # display"
      ],
      "metadata": {
        "colab": {
          "base_uri": "https://localhost:8080/",
          "height": 411
        },
        "id": "7OaqHadq-MvW",
        "outputId": "d7d90560-d6cf-4a27-d221-324e8457643f"
      },
      "execution_count": 15,
      "outputs": [
        {
          "output_type": "display_data",
          "data": {
            "text/plain": [
              "<Figure size 640x480 with 6 Axes>"
            ],
            "image/png": "[encoded data removed]"
          },
          "metadata": {}
        }
      ]
    },
    {
      "cell_type": "code",
      "source": [
        "class NeuralNet(nn.Module):\n",
        "  def __init__(self, input_size, hidden_size, num_classes):\n",
        "    super().__init__()\n",
        "    self.layer_stack = nn.Sequential(\n",
        "        nn.Linear(input_size, hidden_size),\n",
        "        nn.ReLU(),\n",
        "        nn.Linear(hidden_size, hidden_size),\n",
        "        nn.ReLU(),\n",
        "        nn.Linear(hidden_size, num_classes)\n",
        "    )\n",
        "\n",
        "  def forward(self, x):\n",
        "    out = self.layer_stack(x)\n",
        "    return out\n",
        "\n",
        "model = NeuralNet(input_size, hidden_size, NUM_CLASSES).to(device)"
      ],
      "metadata": {
        "id": "s_kg7tir_Umy"
      },
      "execution_count": 16,
      "outputs": []
    },
    {
      "cell_type": "markdown",
      "source": [
        "We're not using softmax here at the output layer. This is because our loss function will be `nn.CrossEntropyLoss()`, which expects the predictions as logits. So applying softmax manually would be doing it twice, which makes training slow."
      ],
      "metadata": {
        "id": "NPI9EjwHAlke"
      }
    },
    {
      "cell_type": "code",
      "source": [
        "# loss and optimizer\n",
        "loss_fn = nn.CrossEntropyLoss()\n",
        "optimizer = torch.optim.Adam(model.parameters(),\n",
        "                             lr=LR)"
      ],
      "metadata": {
        "id": "HVGbqIykBtpE"
      },
      "execution_count": 17,
      "outputs": []
    },
    {
      "cell_type": "code",
      "source": [
        "### Training Loop\n",
        "total_batches = len(train_loader)\n",
        "for epoch in range(EPOCHS):\n",
        "  for batch, (images, labels) in enumerate(train_loader):\n",
        "    # Getting all the images in the batch\n",
        "    images = images.reshape(-1, 28*28).to(device) # We can either do this, or we can use the flatten layer in the model.\n",
        "    labels = labels.to(device)\n",
        "\n",
        "    # forward pass\n",
        "    outputs = model(images)\n",
        "    loss = loss_fn(outputs, labels)\n",
        "\n",
        "    # backward pass\n",
        "    optimizer.zero_grad() # setting the gradients to zero\n",
        "    loss.backward() # backpropagation\n",
        "    optimizer.step()  # optimizing our parameters\n",
        "\n",
        "    if (batch+1)%100 == 0:\n",
        "      print(f'Epoch: {epoch+1}/{EPOCHS} | Batch: {batch+1}/{total_batches} | Train Loss: {loss.item():.5f}')"
      ],
      "metadata": {
        "colab": {
          "base_uri": "https://localhost:8080/"
        },
        "id": "iezfwTNwB7oa",
        "outputId": "fe783eee-7ac6-4e82-e33a-19fce7b46f12"
      },
      "execution_count": 18,
      "outputs": [
        {
          "output_type": "stream",
          "name": "stdout",
          "text": [
            "Epoch: 1/10 | Batch: 100/1875 | Train Loss: 0.13666\n",
            "Epoch: 1/10 | Batch: 200/1875 | Train Loss: 0.12523\n",
            "Epoch: 1/10 | Batch: 300/1875 | Train Loss: 0.39583\n",
            "Epoch: 1/10 | Batch: 400/1875 | Train Loss: 0.23039\n",
            "Epoch: 1/10 | Batch: 500/1875 | Train Loss: 0.13093\n",
            "Epoch: 1/10 | Batch: 600/1875 | Train Loss: 0.11467\n",
            "Epoch: 1/10 | Batch: 700/1875 | Train Loss: 0.34180\n",
            "Epoch: 1/10 | Batch: 800/1875 | Train Loss: 0.05690\n",
            "Epoch: 1/10 | Batch: 900/1875 | Train Loss: 0.30829\n",
            "Epoch: 1/10 | Batch: 1000/1875 | Train Loss: 0.03326\n",
            "Epoch: 1/10 | Batch: 1100/1875 | Train Loss: 0.11187\n",
            "Epoch: 1/10 | Batch: 1200/1875 | Train Loss: 0.17992\n",
            "Epoch: 1/10 | Batch: 1300/1875 | Train Loss: 0.00757\n",
            "Epoch: 1/10 | Batch: 1400/1875 | Train Loss: 0.44022\n",
            "Epoch: 1/10 | Batch: 1500/1875 | Train Loss: 0.10371\n",
            "Epoch: 1/10 | Batch: 1600/1875 | Train Loss: 0.01951\n",
            "Epoch: 1/10 | Batch: 1700/1875 | Train Loss: 0.23654\n",
            "Epoch: 1/10 | Batch: 1800/1875 | Train Loss: 0.08888\n",
            "Epoch: 2/10 | Batch: 100/1875 | Train Loss: 0.02164\n",
            "Epoch: 2/10 | Batch: 200/1875 | Train Loss: 0.11649\n",
            "Epoch: 2/10 | Batch: 300/1875 | Train Loss: 0.02917\n",
            "Epoch: 2/10 | Batch: 400/1875 | Train Loss: 0.03897\n",
            "Epoch: 2/10 | Batch: 500/1875 | Train Loss: 0.00584\n",
            "Epoch: 2/10 | Batch: 600/1875 | Train Loss: 0.03092\n",
            "Epoch: 2/10 | Batch: 700/1875 | Train Loss: 0.08157\n",
            "Epoch: 2/10 | Batch: 800/1875 | Train Loss: 0.02028\n",
            "Epoch: 2/10 | Batch: 900/1875 | Train Loss: 0.11859\n",
            "Epoch: 2/10 | Batch: 1000/1875 | Train Loss: 0.08454\n",
            "Epoch: 2/10 | Batch: 1100/1875 | Train Loss: 0.24010\n",
            "Epoch: 2/10 | Batch: 1200/1875 | Train Loss: 0.00226\n",
            "Epoch: 2/10 | Batch: 1300/1875 | Train Loss: 0.03389\n",
            "Epoch: 2/10 | Batch: 1400/1875 | Train Loss: 0.04157\n",
            "Epoch: 2/10 | Batch: 1500/1875 | Train Loss: 0.01025\n",
            "Epoch: 2/10 | Batch: 1600/1875 | Train Loss: 0.00531\n",
            "Epoch: 2/10 | Batch: 1700/1875 | Train Loss: 0.01970\n",
            "Epoch: 2/10 | Batch: 1800/1875 | Train Loss: 0.01482\n",
            "Epoch: 3/10 | Batch: 100/1875 | Train Loss: 0.16115\n",
            "Epoch: 3/10 | Batch: 200/1875 | Train Loss: 0.01317\n",
            "Epoch: 3/10 | Batch: 300/1875 | Train Loss: 0.05952\n",
            "Epoch: 3/10 | Batch: 400/1875 | Train Loss: 0.00169\n",
            "Epoch: 3/10 | Batch: 500/1875 | Train Loss: 0.09210\n",
            "Epoch: 3/10 | Batch: 600/1875 | Train Loss: 0.03299\n",
            "Epoch: 3/10 | Batch: 700/1875 | Train Loss: 0.02456\n",
            "Epoch: 3/10 | Batch: 800/1875 | Train Loss: 0.06154\n",
            "Epoch: 3/10 | Batch: 900/1875 | Train Loss: 0.38343\n",
            "Epoch: 3/10 | Batch: 1000/1875 | Train Loss: 0.08327\n",
            "Epoch: 3/10 | Batch: 1100/1875 | Train Loss: 0.05635\n",
            "Epoch: 3/10 | Batch: 1200/1875 | Train Loss: 0.00118\n",
            "Epoch: 3/10 | Batch: 1300/1875 | Train Loss: 0.03305\n",
            "Epoch: 3/10 | Batch: 1400/1875 | Train Loss: 0.22908\n",
            "Epoch: 3/10 | Batch: 1500/1875 | Train Loss: 0.09831\n",
            "Epoch: 3/10 | Batch: 1600/1875 | Train Loss: 0.02930\n",
            "Epoch: 3/10 | Batch: 1700/1875 | Train Loss: 0.04529\n",
            "Epoch: 3/10 | Batch: 1800/1875 | Train Loss: 0.00085\n",
            "Epoch: 4/10 | Batch: 100/1875 | Train Loss: 0.00018\n",
            "Epoch: 4/10 | Batch: 200/1875 | Train Loss: 0.00437\n",
            "Epoch: 4/10 | Batch: 300/1875 | Train Loss: 0.01678\n",
            "Epoch: 4/10 | Batch: 400/1875 | Train Loss: 0.19773\n",
            "Epoch: 4/10 | Batch: 500/1875 | Train Loss: 0.00749\n",
            "Epoch: 4/10 | Batch: 600/1875 | Train Loss: 0.01700\n",
            "Epoch: 4/10 | Batch: 700/1875 | Train Loss: 0.00305\n",
            "Epoch: 4/10 | Batch: 800/1875 | Train Loss: 0.01759\n",
            "Epoch: 4/10 | Batch: 900/1875 | Train Loss: 0.00185\n",
            "Epoch: 4/10 | Batch: 1000/1875 | Train Loss: 0.01002\n",
            "Epoch: 4/10 | Batch: 1100/1875 | Train Loss: 0.02689\n",
            "Epoch: 4/10 | Batch: 1200/1875 | Train Loss: 0.03072\n",
            "Epoch: 4/10 | Batch: 1300/1875 | Train Loss: 0.06828\n",
            "Epoch: 4/10 | Batch: 1400/1875 | Train Loss: 0.00146\n",
            "Epoch: 4/10 | Batch: 1500/1875 | Train Loss: 0.00211\n",
            "Epoch: 4/10 | Batch: 1600/1875 | Train Loss: 0.03963\n",
            "Epoch: 4/10 | Batch: 1700/1875 | Train Loss: 0.03254\n",
            "Epoch: 4/10 | Batch: 1800/1875 | Train Loss: 0.00034\n",
            "Epoch: 5/10 | Batch: 100/1875 | Train Loss: 0.00421\n",
            "Epoch: 5/10 | Batch: 200/1875 | Train Loss: 0.00773\n",
            "Epoch: 5/10 | Batch: 300/1875 | Train Loss: 0.00507\n",
            "Epoch: 5/10 | Batch: 400/1875 | Train Loss: 0.09528\n",
            "Epoch: 5/10 | Batch: 500/1875 | Train Loss: 0.00027\n",
            "Epoch: 5/10 | Batch: 600/1875 | Train Loss: 0.17550\n",
            "Epoch: 5/10 | Batch: 700/1875 | Train Loss: 0.00068\n",
            "Epoch: 5/10 | Batch: 800/1875 | Train Loss: 0.01093\n",
            "Epoch: 5/10 | Batch: 900/1875 | Train Loss: 0.05971\n",
            "Epoch: 5/10 | Batch: 1000/1875 | Train Loss: 0.13155\n",
            "Epoch: 5/10 | Batch: 1100/1875 | Train Loss: 0.04275\n",
            "Epoch: 5/10 | Batch: 1200/1875 | Train Loss: 0.00049\n",
            "Epoch: 5/10 | Batch: 1300/1875 | Train Loss: 0.12479\n",
            "Epoch: 5/10 | Batch: 1400/1875 | Train Loss: 0.21395\n",
            "Epoch: 5/10 | Batch: 1500/1875 | Train Loss: 0.04439\n",
            "Epoch: 5/10 | Batch: 1600/1875 | Train Loss: 0.03838\n",
            "Epoch: 5/10 | Batch: 1700/1875 | Train Loss: 0.01408\n",
            "Epoch: 5/10 | Batch: 1800/1875 | Train Loss: 0.02971\n",
            "Epoch: 6/10 | Batch: 100/1875 | Train Loss: 0.00002\n",
            "Epoch: 6/10 | Batch: 200/1875 | Train Loss: 0.08469\n",
            "Epoch: 6/10 | Batch: 300/1875 | Train Loss: 0.00129\n",
            "Epoch: 6/10 | Batch: 400/1875 | Train Loss: 0.00022\n",
            "Epoch: 6/10 | Batch: 500/1875 | Train Loss: 0.00048\n",
            "Epoch: 6/10 | Batch: 600/1875 | Train Loss: 0.00333\n",
            "Epoch: 6/10 | Batch: 700/1875 | Train Loss: 0.02598\n",
            "Epoch: 6/10 | Batch: 800/1875 | Train Loss: 0.00371\n",
            "Epoch: 6/10 | Batch: 900/1875 | Train Loss: 0.00059\n",
            "Epoch: 6/10 | Batch: 1000/1875 | Train Loss: 0.00182\n",
            "Epoch: 6/10 | Batch: 1100/1875 | Train Loss: 0.01691\n",
            "Epoch: 6/10 | Batch: 1200/1875 | Train Loss: 0.27636\n",
            "Epoch: 6/10 | Batch: 1300/1875 | Train Loss: 0.00179\n",
            "Epoch: 6/10 | Batch: 1400/1875 | Train Loss: 0.05477\n",
            "Epoch: 6/10 | Batch: 1500/1875 | Train Loss: 0.10399\n",
            "Epoch: 6/10 | Batch: 1600/1875 | Train Loss: 0.01192\n",
            "Epoch: 6/10 | Batch: 1700/1875 | Train Loss: 0.00023\n",
            "Epoch: 6/10 | Batch: 1800/1875 | Train Loss: 0.02641\n",
            "Epoch: 7/10 | Batch: 100/1875 | Train Loss: 0.00273\n",
            "Epoch: 7/10 | Batch: 200/1875 | Train Loss: 0.01122\n",
            "Epoch: 7/10 | Batch: 300/1875 | Train Loss: 0.00060\n",
            "Epoch: 7/10 | Batch: 400/1875 | Train Loss: 0.00250\n",
            "Epoch: 7/10 | Batch: 500/1875 | Train Loss: 0.00025\n",
            "Epoch: 7/10 | Batch: 600/1875 | Train Loss: 0.02656\n",
            "Epoch: 7/10 | Batch: 700/1875 | Train Loss: 0.00004\n",
            "Epoch: 7/10 | Batch: 800/1875 | Train Loss: 0.01259\n",
            "Epoch: 7/10 | Batch: 900/1875 | Train Loss: 0.02712\n",
            "Epoch: 7/10 | Batch: 1000/1875 | Train Loss: 0.12306\n",
            "Epoch: 7/10 | Batch: 1100/1875 | Train Loss: 0.00018\n",
            "Epoch: 7/10 | Batch: 1200/1875 | Train Loss: 0.00061\n",
            "Epoch: 7/10 | Batch: 1300/1875 | Train Loss: 0.00060\n",
            "Epoch: 7/10 | Batch: 1400/1875 | Train Loss: 0.03321\n",
            "Epoch: 7/10 | Batch: 1500/1875 | Train Loss: 0.00061\n",
            "Epoch: 7/10 | Batch: 1600/1875 | Train Loss: 0.04242\n",
            "Epoch: 7/10 | Batch: 1700/1875 | Train Loss: 0.02749\n",
            "Epoch: 7/10 | Batch: 1800/1875 | Train Loss: 0.03909\n",
            "Epoch: 8/10 | Batch: 100/1875 | Train Loss: 0.00013\n",
            "Epoch: 8/10 | Batch: 200/1875 | Train Loss: 0.00241\n",
            "Epoch: 8/10 | Batch: 300/1875 | Train Loss: 0.02471\n",
            "Epoch: 8/10 | Batch: 400/1875 | Train Loss: 0.05101\n",
            "Epoch: 8/10 | Batch: 500/1875 | Train Loss: 0.00002\n",
            "Epoch: 8/10 | Batch: 600/1875 | Train Loss: 0.00083\n",
            "Epoch: 8/10 | Batch: 700/1875 | Train Loss: 0.00018\n",
            "Epoch: 8/10 | Batch: 800/1875 | Train Loss: 0.18464\n",
            "Epoch: 8/10 | Batch: 900/1875 | Train Loss: 0.00415\n",
            "Epoch: 8/10 | Batch: 1000/1875 | Train Loss: 0.00034\n",
            "Epoch: 8/10 | Batch: 1100/1875 | Train Loss: 0.00876\n",
            "Epoch: 8/10 | Batch: 1200/1875 | Train Loss: 0.00181\n",
            "Epoch: 8/10 | Batch: 1300/1875 | Train Loss: 0.00269\n",
            "Epoch: 8/10 | Batch: 1400/1875 | Train Loss: 0.00005\n",
            "Epoch: 8/10 | Batch: 1500/1875 | Train Loss: 0.00729\n",
            "Epoch: 8/10 | Batch: 1600/1875 | Train Loss: 0.00427\n",
            "Epoch: 8/10 | Batch: 1700/1875 | Train Loss: 0.00001\n",
            "Epoch: 8/10 | Batch: 1800/1875 | Train Loss: 0.00042\n",
            "Epoch: 9/10 | Batch: 100/1875 | Train Loss: 0.00174\n",
            "Epoch: 9/10 | Batch: 200/1875 | Train Loss: 0.00005\n",
            "Epoch: 9/10 | Batch: 300/1875 | Train Loss: 0.02176\n",
            "Epoch: 9/10 | Batch: 400/1875 | Train Loss: 0.00009\n",
            "Epoch: 9/10 | Batch: 500/1875 | Train Loss: 0.00006\n",
            "Epoch: 9/10 | Batch: 600/1875 | Train Loss: 0.00015\n",
            "Epoch: 9/10 | Batch: 700/1875 | Train Loss: 0.00001\n",
            "Epoch: 9/10 | Batch: 800/1875 | Train Loss: 0.00030\n",
            "Epoch: 9/10 | Batch: 900/1875 | Train Loss: 0.00058\n",
            "Epoch: 9/10 | Batch: 1000/1875 | Train Loss: 0.00786\n",
            "Epoch: 9/10 | Batch: 1100/1875 | Train Loss: 0.00015\n",
            "Epoch: 9/10 | Batch: 1200/1875 | Train Loss: 0.00035\n",
            "Epoch: 9/10 | Batch: 1300/1875 | Train Loss: 0.00038\n",
            "Epoch: 9/10 | Batch: 1400/1875 | Train Loss: 0.00185\n",
            "Epoch: 9/10 | Batch: 1500/1875 | Train Loss: 0.00029\n",
            "Epoch: 9/10 | Batch: 1600/1875 | Train Loss: 0.00822\n",
            "Epoch: 9/10 | Batch: 1700/1875 | Train Loss: 0.00113\n",
            "Epoch: 9/10 | Batch: 1800/1875 | Train Loss: 0.00014\n",
            "Epoch: 10/10 | Batch: 100/1875 | Train Loss: 0.00424\n",
            "Epoch: 10/10 | Batch: 200/1875 | Train Loss: 0.03301\n",
            "Epoch: 10/10 | Batch: 300/1875 | Train Loss: 0.00009\n",
            "Epoch: 10/10 | Batch: 400/1875 | Train Loss: 0.00076\n",
            "Epoch: 10/10 | Batch: 500/1875 | Train Loss: 0.06003\n",
            "Epoch: 10/10 | Batch: 600/1875 | Train Loss: 0.00239\n",
            "Epoch: 10/10 | Batch: 700/1875 | Train Loss: 0.00010\n",
            "Epoch: 10/10 | Batch: 800/1875 | Train Loss: 0.00004\n",
            "Epoch: 10/10 | Batch: 900/1875 | Train Loss: 0.00359\n",
            "Epoch: 10/10 | Batch: 1000/1875 | Train Loss: 0.05959\n",
            "Epoch: 10/10 | Batch: 1100/1875 | Train Loss: 0.08120\n",
            "Epoch: 10/10 | Batch: 1200/1875 | Train Loss: 0.00002\n",
            "Epoch: 10/10 | Batch: 1300/1875 | Train Loss: 0.02614\n",
            "Epoch: 10/10 | Batch: 1400/1875 | Train Loss: 0.00653\n",
            "Epoch: 10/10 | Batch: 1500/1875 | Train Loss: 0.02713\n",
            "Epoch: 10/10 | Batch: 1600/1875 | Train Loss: 0.00000\n",
            "Epoch: 10/10 | Batch: 1700/1875 | Train Loss: 0.00007\n",
            "Epoch: 10/10 | Batch: 1800/1875 | Train Loss: 0.38551\n"
          ]
        }
      ]
    },
    {
      "cell_type": "code",
      "source": [
        "### Testing Loop\n",
        "model.eval()\n",
        "with torch.inference_mode():\n",
        "  n_correct = 0\n",
        "  n_samples = 0\n",
        "\n",
        "  for images, labels in test_loader:\n",
        "    images = images.reshape(-1, 28*28).to(device)\n",
        "    labels = labels.to(device)\n",
        "    outputs = model(images)\n",
        "    # returns value, index. We only need index i.e the class label\n",
        "    _, predictions = torch.max(outputs, dim=1)  # returns the index having the highest value.\n",
        "    n_samples += labels.shape[0]  # Gives us number of samples in current batch (should be 32)\n",
        "    n_correct += torch.eq(predictions, labels).sum().item() # adding 1 for every correct prediction.\n",
        "\n",
        "  acc = 100 * n_correct / n_samples\n",
        "  print(f'accuracy = {acc}')"
      ],
      "metadata": {
        "colab": {
          "base_uri": "https://localhost:8080/"
        },
        "id": "8HZgTZJNDGWU",
        "outputId": "a855bac6-9c28-41db-b76d-e8295fc46c80"
      },
      "execution_count": 19,
      "outputs": [
        {
          "output_type": "stream",
          "name": "stdout",
          "text": [
            "accuracy = 98.09\n"
          ]
        }
      ]
    },
    {
      "cell_type": "code",
      "source": [],
      "metadata": {
        "id": "VXivBB8UEZ_K"
      },
      "execution_count": null,
      "outputs": []
    }
  ]
}